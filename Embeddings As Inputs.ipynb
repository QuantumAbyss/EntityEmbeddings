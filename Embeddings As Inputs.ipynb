{
 "cells": [
  {
   "cell_type": "code",
   "execution_count": 1,
   "id": "f4dabc23",
   "metadata": {},
   "outputs": [],
   "source": [
    "#hide\n",
    "!pip install -Uqq fastbook\n",
    "import fastbook\n",
    "fastbook.setup_book()"
   ]
  },
  {
   "cell_type": "code",
   "execution_count": 2,
   "id": "2b7b22a7",
   "metadata": {},
   "outputs": [],
   "source": [
    "#hide\n",
    "from fastbook import *\n",
    "from kaggle import api\n",
    "from pandas.api.types import is_string_dtype, is_numeric_dtype, is_categorical_dtype\n",
    "from fastai.tabular.all import *\n",
    "from sklearn.ensemble import RandomForestRegressor\n",
    "from sklearn.ensemble import GradientBoostingRegressor\n",
    "from sklearn.tree import DecisionTreeRegressor\n",
    "from dtreeviz.trees import *\n",
    "from IPython.display import Image, display_svg, SVG\n",
    "\n",
    "pd.options.display.max_rows = 20\n",
    "pd.options.display.max_columns = 20\n"
   ]
  },
  {
   "cell_type": "code",
   "execution_count": 32,
   "id": "bf284c08",
   "metadata": {},
   "outputs": [],
   "source": [
    "cred_path = Path('~/.kaggle/kaggle.json').expanduser()\n",
    "if not cred_path.exists():\n",
    "    cred_path.parent.mkdir(exist_ok=True)\n",
    "    cred_path.write(creds)\n",
    "    cred_path.chmod(0o600)"
   ]
  },
  {
   "cell_type": "code",
   "execution_count": 33,
   "id": "8fb87a35",
   "metadata": {},
   "outputs": [
    {
     "data": {
      "text/plain": [
       "Path('.')"
      ]
     },
     "execution_count": 33,
     "metadata": {},
     "output_type": "execute_result"
    }
   ],
   "source": [
    "path = URLs.path('bluebook')\n",
    "path"
   ]
  },
  {
   "cell_type": "code",
   "execution_count": 34,
   "id": "e1d812aa",
   "metadata": {},
   "outputs": [],
   "source": [
    "#hide\n",
    "Path.BASE_PATH = path"
   ]
  },
  {
   "cell_type": "code",
   "execution_count": 35,
   "id": "fb13f924",
   "metadata": {},
   "outputs": [],
   "source": [
    "dep_var = 'SalePrice'"
   ]
  },
  {
   "cell_type": "code",
   "execution_count": 36,
   "id": "2f2a9e18",
   "metadata": {},
   "outputs": [],
   "source": [
    "df_nn = pd.read_csv(path/'TrainAndValid.csv', low_memory=False)\n",
    "df_nn['ProductSize'] = df_nn['ProductSize'].astype('category')\n",
    "sizes = 'Large','Large / Medium','Medium','Small','Mini','Compact'\n",
    "df_nn['ProductSize'].cat.set_categories(sizes, ordered=True, inplace=True)\n",
    "df_nn[dep_var] = np.log(df_nn[dep_var])\n",
    "df_nn = add_datepart(df_nn, 'saledate')"
   ]
  },
  {
   "cell_type": "code",
   "execution_count": 37,
   "id": "4d5120f2",
   "metadata": {},
   "outputs": [],
   "source": [
    "df_nn = df_nn.sample(350000, random_state=24)"
   ]
  },
  {
   "cell_type": "code",
   "execution_count": 38,
   "id": "bd0cfca3",
   "metadata": {},
   "outputs": [
    {
     "data": {
      "text/plain": [
       "350000"
      ]
     },
     "execution_count": 38,
     "metadata": {},
     "output_type": "execute_result"
    }
   ],
   "source": [
    "len(df_nn)"
   ]
  },
  {
   "cell_type": "code",
   "execution_count": 39,
   "id": "61a82f99",
   "metadata": {},
   "outputs": [],
   "source": [
    "cond = (df_nn.saleYear<2011) | (df_nn.saleMonth<10)\n",
    "train_idx = np.where( cond)[0]\n",
    "valid_idx = np.where(~cond)[0]\n",
    "\n",
    "splits = (list(train_idx),list(valid_idx))"
   ]
  },
  {
   "cell_type": "code",
   "execution_count": 40,
   "id": "d002c391",
   "metadata": {},
   "outputs": [],
   "source": [
    "df_nn_final = df_nn[[\"YearMade\",\"ProductSize\",\"Coupler_System\",\"fiProductClassDesc\",\"ModelID\",\n",
    "             \"fiSecondaryDesc\",\"fiModelDesc\",\"Enclosure\",\"Hydraulics_Flow\",\"Hydraulics\",\n",
    "            \"ProductGroup\",\"Drive_System\",\"Tire_Size\", \"saleElapsed\"] + [dep_var]]"
   ]
  },
  {
   "cell_type": "code",
   "execution_count": 41,
   "id": "91458a2d",
   "metadata": {},
   "outputs": [
    {
     "data": {
      "text/plain": [
       "Index(['YearMade', 'ProductSize', 'Coupler_System', 'fiProductClassDesc',\n",
       "       'ModelID', 'fiSecondaryDesc', 'fiModelDesc', 'Enclosure',\n",
       "       'Hydraulics_Flow', 'Hydraulics', 'ProductGroup', 'Drive_System',\n",
       "       'Tire_Size', 'saleElapsed', 'SalePrice'],\n",
       "      dtype='object')"
      ]
     },
     "execution_count": 41,
     "metadata": {},
     "output_type": "execute_result"
    }
   ],
   "source": [
    "df_nn_final.columns"
   ]
  },
  {
   "cell_type": "code",
   "execution_count": 42,
   "id": "fe9e71bd",
   "metadata": {},
   "outputs": [
    {
     "data": {
      "text/html": [
       "<div>\n",
       "<style scoped>\n",
       "    .dataframe tbody tr th:only-of-type {\n",
       "        vertical-align: middle;\n",
       "    }\n",
       "\n",
       "    .dataframe tbody tr th {\n",
       "        vertical-align: top;\n",
       "    }\n",
       "\n",
       "    .dataframe thead th {\n",
       "        text-align: right;\n",
       "    }\n",
       "</style>\n",
       "<table border=\"1\" class=\"dataframe\">\n",
       "  <thead>\n",
       "    <tr style=\"text-align: right;\">\n",
       "      <th></th>\n",
       "      <th>YearMade</th>\n",
       "      <th>ProductSize</th>\n",
       "      <th>Coupler_System</th>\n",
       "      <th>fiProductClassDesc</th>\n",
       "      <th>ModelID</th>\n",
       "      <th>fiSecondaryDesc</th>\n",
       "      <th>fiModelDesc</th>\n",
       "      <th>Enclosure</th>\n",
       "      <th>Hydraulics_Flow</th>\n",
       "      <th>Hydraulics</th>\n",
       "      <th>ProductGroup</th>\n",
       "      <th>Drive_System</th>\n",
       "      <th>Tire_Size</th>\n",
       "      <th>saleElapsed</th>\n",
       "      <th>SalePrice</th>\n",
       "    </tr>\n",
       "  </thead>\n",
       "  <tbody>\n",
       "    <tr>\n",
       "      <th>79557</th>\n",
       "      <td>1985</td>\n",
       "      <td>Small</td>\n",
       "      <td>NaN</td>\n",
       "      <td>Hydraulic Excavator, Track - 12.0 to 14.0 Metric Tons</td>\n",
       "      <td>3385</td>\n",
       "      <td>NaN</td>\n",
       "      <td>205LC</td>\n",
       "      <td>EROPS</td>\n",
       "      <td>NaN</td>\n",
       "      <td>Standard</td>\n",
       "      <td>TEX</td>\n",
       "      <td>NaN</td>\n",
       "      <td>NaN</td>\n",
       "      <td>1.061510e+09</td>\n",
       "      <td>10.043249</td>\n",
       "    </tr>\n",
       "    <tr>\n",
       "      <th>268853</th>\n",
       "      <td>1000</td>\n",
       "      <td>NaN</td>\n",
       "      <td>None or Unspecified</td>\n",
       "      <td>Skid Steer Loader - 1251.0 to 1351.0 Lb Operating Capacity</td>\n",
       "      <td>9550</td>\n",
       "      <td>NaN</td>\n",
       "      <td>753</td>\n",
       "      <td>OROPS</td>\n",
       "      <td>Standard</td>\n",
       "      <td>Standard</td>\n",
       "      <td>SSL</td>\n",
       "      <td>NaN</td>\n",
       "      <td>NaN</td>\n",
       "      <td>1.118794e+09</td>\n",
       "      <td>9.047821</td>\n",
       "    </tr>\n",
       "    <tr>\n",
       "      <th>285996</th>\n",
       "      <td>2005</td>\n",
       "      <td>NaN</td>\n",
       "      <td>NaN</td>\n",
       "      <td>Track Type Tractor, Dozer - 85.0 to 105.0 Horsepower</td>\n",
       "      <td>22352</td>\n",
       "      <td>K</td>\n",
       "      <td>850KWT</td>\n",
       "      <td>OROPS</td>\n",
       "      <td>NaN</td>\n",
       "      <td>2 Valve</td>\n",
       "      <td>TTT</td>\n",
       "      <td>NaN</td>\n",
       "      <td>NaN</td>\n",
       "      <td>1.190074e+09</td>\n",
       "      <td>10.915088</td>\n",
       "    </tr>\n",
       "    <tr>\n",
       "      <th>19873</th>\n",
       "      <td>2005</td>\n",
       "      <td>NaN</td>\n",
       "      <td>Yes</td>\n",
       "      <td>Skid Steer Loader - 1251.0 to 1351.0 Lb Operating Capacity</td>\n",
       "      <td>17309</td>\n",
       "      <td>NaN</td>\n",
       "      <td>S130</td>\n",
       "      <td>OROPS</td>\n",
       "      <td>High Flow</td>\n",
       "      <td>Auxiliary</td>\n",
       "      <td>SSL</td>\n",
       "      <td>NaN</td>\n",
       "      <td>NaN</td>\n",
       "      <td>1.286410e+09</td>\n",
       "      <td>9.047821</td>\n",
       "    </tr>\n",
       "    <tr>\n",
       "      <th>38726</th>\n",
       "      <td>1990</td>\n",
       "      <td>NaN</td>\n",
       "      <td>NaN</td>\n",
       "      <td>Wheel Loader - 120.0 to 135.0 Horsepower</td>\n",
       "      <td>6797</td>\n",
       "      <td>NaN</td>\n",
       "      <td>621</td>\n",
       "      <td>EROPS</td>\n",
       "      <td>NaN</td>\n",
       "      <td>2 Valve</td>\n",
       "      <td>WL</td>\n",
       "      <td>NaN</td>\n",
       "      <td>17.5</td>\n",
       "      <td>1.000858e+09</td>\n",
       "      <td>10.203592</td>\n",
       "    </tr>\n",
       "  </tbody>\n",
       "</table>\n",
       "</div>"
      ],
      "text/plain": [
       "        YearMade ProductSize       Coupler_System  \\\n",
       "79557       1985       Small                  NaN   \n",
       "268853      1000         NaN  None or Unspecified   \n",
       "285996      2005         NaN                  NaN   \n",
       "19873       2005         NaN                  Yes   \n",
       "38726       1990         NaN                  NaN   \n",
       "\n",
       "                                                fiProductClassDesc  ModelID  \\\n",
       "79557        Hydraulic Excavator, Track - 12.0 to 14.0 Metric Tons     3385   \n",
       "268853  Skid Steer Loader - 1251.0 to 1351.0 Lb Operating Capacity     9550   \n",
       "285996        Track Type Tractor, Dozer - 85.0 to 105.0 Horsepower    22352   \n",
       "19873   Skid Steer Loader - 1251.0 to 1351.0 Lb Operating Capacity    17309   \n",
       "38726                     Wheel Loader - 120.0 to 135.0 Horsepower     6797   \n",
       "\n",
       "       fiSecondaryDesc fiModelDesc Enclosure Hydraulics_Flow Hydraulics  \\\n",
       "79557              NaN       205LC     EROPS             NaN   Standard   \n",
       "268853             NaN         753     OROPS        Standard   Standard   \n",
       "285996               K      850KWT     OROPS             NaN    2 Valve   \n",
       "19873              NaN        S130     OROPS       High Flow  Auxiliary   \n",
       "38726              NaN         621     EROPS             NaN    2 Valve   \n",
       "\n",
       "       ProductGroup Drive_System Tire_Size   saleElapsed  SalePrice  \n",
       "79557           TEX          NaN       NaN  1.061510e+09  10.043249  \n",
       "268853          SSL          NaN       NaN  1.118794e+09   9.047821  \n",
       "285996          TTT          NaN       NaN  1.190074e+09  10.915088  \n",
       "19873           SSL          NaN       NaN  1.286410e+09   9.047821  \n",
       "38726            WL          NaN      17.5  1.000858e+09  10.203592  "
      ]
     },
     "execution_count": 42,
     "metadata": {},
     "output_type": "execute_result"
    }
   ],
   "source": [
    "df_nn_final.head()"
   ]
  },
  {
   "cell_type": "code",
   "execution_count": 43,
   "id": "ca03002c",
   "metadata": {},
   "outputs": [],
   "source": [
    "cont_nn,cat_nn = cont_cat_split(df_nn_final, max_card=9000, dep_var=dep_var)"
   ]
  },
  {
   "cell_type": "code",
   "execution_count": 44,
   "id": "716a48d3",
   "metadata": {},
   "outputs": [],
   "source": [
    "procs_nn = [Categorify, FillMissing, Normalize]\n",
    "to_nn = TabularPandas(df_nn_final, procs_nn, cat_nn, cont_nn,\n",
    "                      splits=splits, y_names=dep_var)"
   ]
  },
  {
   "cell_type": "code",
   "execution_count": 16,
   "id": "13a3286f",
   "metadata": {},
   "outputs": [],
   "source": [
    "dls = to_nn.dataloaders(1024)"
   ]
  },
  {
   "cell_type": "code",
   "execution_count": 17,
   "id": "be437f11",
   "metadata": {},
   "outputs": [],
   "source": [
    "learn = tabular_learner(dls, y_range=(8,12), layers=[500,250],\n",
    "                        n_out=1, loss_func=F.mse_loss)"
   ]
  },
  {
   "cell_type": "code",
   "execution_count": 18,
   "id": "2d69b789",
   "metadata": {},
   "outputs": [
    {
     "data": {
      "text/html": [],
      "text/plain": [
       "<IPython.core.display.HTML object>"
      ]
     },
     "metadata": {},
     "output_type": "display_data"
    },
    {
     "data": {
      "text/plain": [
       "SuggestedLRs(valley=0.00015848931798245758)"
      ]
     },
     "execution_count": 18,
     "metadata": {},
     "output_type": "execute_result"
    },
    {
     "data": {
      "image/png": "[encoded data removed]",
      "text/plain": [
       "<Figure size 432x288 with 1 Axes>"
      ]
     },
     "metadata": {
      "needs_background": "light"
     },
     "output_type": "display_data"
    }
   ],
   "source": [
    "learn.lr_find()"
   ]
  },
  {
   "cell_type": "code",
   "execution_count": 19,
   "id": "c6ae0026",
   "metadata": {},
   "outputs": [
    {
     "data": {
      "text/html": [
       "<table border=\"1\" class=\"dataframe\">\n",
       "  <thead>\n",
       "    <tr style=\"text-align: left;\">\n",
       "      <th>epoch</th>\n",
       "      <th>train_loss</th>\n",
       "      <th>valid_loss</th>\n",
       "      <th>time</th>\n",
       "    </tr>\n",
       "  </thead>\n",
       "  <tbody>\n",
       "    <tr>\n",
       "      <td>0</td>\n",
       "      <td>0.064697</td>\n",
       "      <td>0.080445</td>\n",
       "      <td>00:03</td>\n",
       "    </tr>\n",
       "    <tr>\n",
       "      <td>1</td>\n",
       "      <td>0.056244</td>\n",
       "      <td>0.078426</td>\n",
       "      <td>00:03</td>\n",
       "    </tr>\n",
       "    <tr>\n",
       "      <td>2</td>\n",
       "      <td>0.049318</td>\n",
       "      <td>0.055939</td>\n",
       "      <td>00:03</td>\n",
       "    </tr>\n",
       "    <tr>\n",
       "      <td>3</td>\n",
       "      <td>0.043845</td>\n",
       "      <td>0.053740</td>\n",
       "      <td>00:03</td>\n",
       "    </tr>\n",
       "    <tr>\n",
       "      <td>4</td>\n",
       "      <td>0.040502</td>\n",
       "      <td>0.050680</td>\n",
       "      <td>00:03</td>\n",
       "    </tr>\n",
       "  </tbody>\n",
       "</table>"
      ],
      "text/plain": [
       "<IPython.core.display.HTML object>"
      ]
     },
     "metadata": {},
     "output_type": "display_data"
    }
   ],
   "source": [
    "learn.fit_one_cycle(5, 1e-2)"
   ]
  },
  {
   "cell_type": "code",
   "execution_count": 22,
   "id": "d0b7ab5a",
   "metadata": {},
   "outputs": [],
   "source": [
    "def r_mse(pred,y): return round(math.sqrt(((pred-y)**2).mean()), 6)\n",
    "def m_rmse(m, xs, y): return r_mse(m.predict(xs), y)"
   ]
  },
  {
   "cell_type": "code",
   "execution_count": 21,
   "id": "0e219a13",
   "metadata": {},
   "outputs": [
    {
     "data": {
      "text/html": [],
      "text/plain": [
       "<IPython.core.display.HTML object>"
      ]
     },
     "metadata": {},
     "output_type": "display_data"
    },
    {
     "data": {
      "text/plain": [
       "0.225122"
      ]
     },
     "execution_count": 21,
     "metadata": {},
     "output_type": "execute_result"
    }
   ],
   "source": [
    "preds,targs = learn.get_preds()\n",
    "r_mse(preds,targs)"
   ]
  },
  {
   "cell_type": "code",
   "execution_count": 22,
   "id": "d059d8d5",
   "metadata": {},
   "outputs": [
    {
     "data": {
      "text/plain": [
       "[(71, 17),\n",
       " (7, 5),\n",
       " (3, 3),\n",
       " (75, 18),\n",
       " (5089, 190),\n",
       " (173, 29),\n",
       " (4916, 187),\n",
       " (7, 5),\n",
       " (4, 3),\n",
       " (13, 7),\n",
       " (7, 5),\n",
       " (5, 4),\n",
       " (18, 8)]"
      ]
     },
     "execution_count": 22,
     "metadata": {},
     "output_type": "execute_result"
    }
   ],
   "source": [
    "get_emb_sz(learn.dls)"
   ]
  },
  {
   "cell_type": "code",
   "execution_count": 23,
   "id": "0292f3f0",
   "metadata": {},
   "outputs": [
    {
     "data": {
      "text/plain": [
       "YearMade                71\n",
       "ProductSize              6\n",
       "Coupler_System           2\n",
       "fiProductClassDesc      74\n",
       "ModelID               5128\n",
       "fiSecondaryDesc        172\n",
       "fiModelDesc           4915\n",
       "Enclosure                6\n",
       "Hydraulics_Flow          3\n",
       "Hydraulics              12\n",
       "ProductGroup             6\n",
       "Drive_System             4\n",
       "Tire_Size               17\n",
       "saleElapsed           3983\n",
       "SalePrice              913\n",
       "dtype: int64"
      ]
     },
     "execution_count": 23,
     "metadata": {},
     "output_type": "execute_result"
    }
   ],
   "source": [
    "df_nn_final.nunique()"
   ]
  },
  {
   "cell_type": "code",
   "execution_count": 24,
   "id": "ce909b3e",
   "metadata": {},
   "outputs": [],
   "source": [
    "def getClassIdx(currGroup, target):\n",
    "    for idx, val in enumerate(currGroup):\n",
    "        if (val==target): \n",
    "            return idx\n",
    "    return -1"
   ]
  },
  {
   "cell_type": "code",
   "execution_count": 25,
   "id": "38c0d0da",
   "metadata": {},
   "outputs": [],
   "source": [
    "df_embed = []\n",
    "for index, row in df_nn_final.iterrows():\n",
    "    row_embed = []\n",
    "    emb_idx = 0\n",
    "    for (colName, colData) in row.iteritems():\n",
    "        if (colName=='saleElapsed' or colName=='SalePrice'):\n",
    "            row_embed.extend([colData])\n",
    "        elif(pd.isna(colData) or getClassIdx(learn.dls.classes[colName], colData)==-1):\n",
    "            row_embed.extend(Tensor.cpu(learn.model.embeds[emb_idx].weight.mean(axis=0)).detach().numpy())\n",
    "            emb_idx += 1\n",
    "        else:\n",
    "            row_embed.extend(Tensor.cpu(learn.model.embeds[emb_idx].\n",
    "                                        weight[getClassIdx(learn.dls.classes[colName], colData)]).detach().numpy())\n",
    "            emb_idx += 1\n",
    "\n",
    "    df_embed.append(row_embed)"
   ]
  },
  {
   "cell_type": "code",
   "execution_count": 26,
   "id": "53338463",
   "metadata": {},
   "outputs": [],
   "source": [
    "df_embed_final = pd.DataFrame(df_embed)"
   ]
  },
  {
   "cell_type": "code",
   "execution_count": 27,
   "id": "9b1982aa",
   "metadata": {},
   "outputs": [],
   "source": [
    "df_embed_final.to_pickle(\"dataAsEmbeddings.pkl\")"
   ]
  },
  {
   "cell_type": "code",
   "execution_count": 11,
   "id": "89e4ae66",
   "metadata": {},
   "outputs": [],
   "source": [
    "df_embed_final = load_pickle(\"dataAsEmbeddings.pkl\")"
   ]
  },
  {
   "cell_type": "code",
   "execution_count": 12,
   "id": "ba44c07e",
   "metadata": {},
   "outputs": [
    {
     "data": {
      "text/html": [
       "<div>\n",
       "<style scoped>\n",
       "    .dataframe tbody tr th:only-of-type {\n",
       "        vertical-align: middle;\n",
       "    }\n",
       "\n",
       "    .dataframe tbody tr th {\n",
       "        vertical-align: top;\n",
       "    }\n",
       "\n",
       "    .dataframe thead th {\n",
       "        text-align: right;\n",
       "    }\n",
       "</style>\n",
       "<table border=\"1\" class=\"dataframe\">\n",
       "  <thead>\n",
       "    <tr style=\"text-align: right;\">\n",
       "      <th></th>\n",
       "      <th>0</th>\n",
       "      <th>1</th>\n",
       "      <th>2</th>\n",
       "      <th>3</th>\n",
       "      <th>4</th>\n",
       "      <th>5</th>\n",
       "      <th>6</th>\n",
       "      <th>7</th>\n",
       "      <th>8</th>\n",
       "      <th>9</th>\n",
       "      <th>...</th>\n",
       "      <th>473</th>\n",
       "      <th>474</th>\n",
       "      <th>475</th>\n",
       "      <th>476</th>\n",
       "      <th>477</th>\n",
       "      <th>478</th>\n",
       "      <th>479</th>\n",
       "      <th>480</th>\n",
       "      <th>481</th>\n",
       "      <th>482</th>\n",
       "    </tr>\n",
       "  </thead>\n",
       "  <tbody>\n",
       "    <tr>\n",
       "      <th>0</th>\n",
       "      <td>0.210069</td>\n",
       "      <td>-0.256054</td>\n",
       "      <td>0.140934</td>\n",
       "      <td>0.015503</td>\n",
       "      <td>-0.203351</td>\n",
       "      <td>0.257414</td>\n",
       "      <td>0.067230</td>\n",
       "      <td>-0.107796</td>\n",
       "      <td>0.065374</td>\n",
       "      <td>0.045940</td>\n",
       "      <td>...</td>\n",
       "      <td>0.09220</td>\n",
       "      <td>0.029157</td>\n",
       "      <td>-0.042757</td>\n",
       "      <td>0.078990</td>\n",
       "      <td>0.048331</td>\n",
       "      <td>-0.069729</td>\n",
       "      <td>0.084349</td>\n",
       "      <td>0.041910</td>\n",
       "      <td>1.061510e+09</td>\n",
       "      <td>10.043249</td>\n",
       "    </tr>\n",
       "    <tr>\n",
       "      <th>1</th>\n",
       "      <td>0.022440</td>\n",
       "      <td>-0.472461</td>\n",
       "      <td>-0.118124</td>\n",
       "      <td>0.111385</td>\n",
       "      <td>-0.094318</td>\n",
       "      <td>-0.226030</td>\n",
       "      <td>0.071839</td>\n",
       "      <td>0.025880</td>\n",
       "      <td>0.158823</td>\n",
       "      <td>0.144774</td>\n",
       "      <td>...</td>\n",
       "      <td>0.09220</td>\n",
       "      <td>0.029157</td>\n",
       "      <td>-0.042757</td>\n",
       "      <td>0.078990</td>\n",
       "      <td>0.048331</td>\n",
       "      <td>-0.069729</td>\n",
       "      <td>0.084349</td>\n",
       "      <td>0.041910</td>\n",
       "      <td>1.118794e+09</td>\n",
       "      <td>9.047821</td>\n",
       "    </tr>\n",
       "    <tr>\n",
       "      <th>2</th>\n",
       "      <td>-0.019598</td>\n",
       "      <td>0.203523</td>\n",
       "      <td>-0.235036</td>\n",
       "      <td>-0.036901</td>\n",
       "      <td>0.200980</td>\n",
       "      <td>-0.149845</td>\n",
       "      <td>-0.242994</td>\n",
       "      <td>0.211987</td>\n",
       "      <td>-0.197601</td>\n",
       "      <td>-0.234967</td>\n",
       "      <td>...</td>\n",
       "      <td>0.09220</td>\n",
       "      <td>0.029157</td>\n",
       "      <td>-0.042757</td>\n",
       "      <td>0.078990</td>\n",
       "      <td>0.048331</td>\n",
       "      <td>-0.069729</td>\n",
       "      <td>0.084349</td>\n",
       "      <td>0.041910</td>\n",
       "      <td>1.190074e+09</td>\n",
       "      <td>10.915088</td>\n",
       "    </tr>\n",
       "    <tr>\n",
       "      <th>3</th>\n",
       "      <td>-0.019598</td>\n",
       "      <td>0.203523</td>\n",
       "      <td>-0.235036</td>\n",
       "      <td>-0.036901</td>\n",
       "      <td>0.200980</td>\n",
       "      <td>-0.149845</td>\n",
       "      <td>-0.242994</td>\n",
       "      <td>0.211987</td>\n",
       "      <td>-0.197601</td>\n",
       "      <td>-0.234967</td>\n",
       "      <td>...</td>\n",
       "      <td>0.09220</td>\n",
       "      <td>0.029157</td>\n",
       "      <td>-0.042757</td>\n",
       "      <td>0.078990</td>\n",
       "      <td>0.048331</td>\n",
       "      <td>-0.069729</td>\n",
       "      <td>0.084349</td>\n",
       "      <td>0.041910</td>\n",
       "      <td>1.286410e+09</td>\n",
       "      <td>9.047821</td>\n",
       "    </tr>\n",
       "    <tr>\n",
       "      <th>4</th>\n",
       "      <td>0.394319</td>\n",
       "      <td>-0.180132</td>\n",
       "      <td>0.383332</td>\n",
       "      <td>-0.127643</td>\n",
       "      <td>-0.207724</td>\n",
       "      <td>0.310899</td>\n",
       "      <td>0.004211</td>\n",
       "      <td>0.002595</td>\n",
       "      <td>0.004435</td>\n",
       "      <td>-0.095828</td>\n",
       "      <td>...</td>\n",
       "      <td>-0.03475</td>\n",
       "      <td>-0.353593</td>\n",
       "      <td>0.055611</td>\n",
       "      <td>-0.006158</td>\n",
       "      <td>0.027939</td>\n",
       "      <td>-0.214759</td>\n",
       "      <td>0.122818</td>\n",
       "      <td>0.114722</td>\n",
       "      <td>1.000858e+09</td>\n",
       "      <td>10.203592</td>\n",
       "    </tr>\n",
       "  </tbody>\n",
       "</table>\n",
       "<p>5 rows × 483 columns</p>\n",
       "</div>"
      ],
      "text/plain": [
       "        0         1         2         3         4         5         6    \\\n",
       "0  0.210069 -0.256054  0.140934  0.015503 -0.203351  0.257414  0.067230   \n",
       "1  0.022440 -0.472461 -0.118124  0.111385 -0.094318 -0.226030  0.071839   \n",
       "2 -0.019598  0.203523 -0.235036 -0.036901  0.200980 -0.149845 -0.242994   \n",
       "3 -0.019598  0.203523 -0.235036 -0.036901  0.200980 -0.149845 -0.242994   \n",
       "4  0.394319 -0.180132  0.383332 -0.127643 -0.207724  0.310899  0.004211   \n",
       "\n",
       "        7         8         9    ...      473       474       475       476  \\\n",
       "0 -0.107796  0.065374  0.045940  ...  0.09220  0.029157 -0.042757  0.078990   \n",
       "1  0.025880  0.158823  0.144774  ...  0.09220  0.029157 -0.042757  0.078990   \n",
       "2  0.211987 -0.197601 -0.234967  ...  0.09220  0.029157 -0.042757  0.078990   \n",
       "3  0.211987 -0.197601 -0.234967  ...  0.09220  0.029157 -0.042757  0.078990   \n",
       "4  0.002595  0.004435 -0.095828  ... -0.03475 -0.353593  0.055611 -0.006158   \n",
       "\n",
       "        477       478       479       480           481        482  \n",
       "0  0.048331 -0.069729  0.084349  0.041910  1.061510e+09  10.043249  \n",
       "1  0.048331 -0.069729  0.084349  0.041910  1.118794e+09   9.047821  \n",
       "2  0.048331 -0.069729  0.084349  0.041910  1.190074e+09  10.915088  \n",
       "3  0.048331 -0.069729  0.084349  0.041910  1.286410e+09   9.047821  \n",
       "4  0.027939 -0.214759  0.122818  0.114722  1.000858e+09  10.203592  \n",
       "\n",
       "[5 rows x 483 columns]"
      ]
     },
     "execution_count": 12,
     "metadata": {},
     "output_type": "execute_result"
    }
   ],
   "source": [
    "df_embed_final.head()"
   ]
  },
  {
   "cell_type": "code",
   "execution_count": 13,
   "id": "f33c2baa",
   "metadata": {},
   "outputs": [],
   "source": [
    "#cols = df_embed_final.select_dtypes(exclude=['float']).columns\n",
    "#df_embed_final[cols] = df_embed_final[cols].apply(pd.to_numeric, downcast='float', errors='coerce')"
   ]
  },
  {
   "cell_type": "code",
   "execution_count": 14,
   "id": "144a9e47",
   "metadata": {},
   "outputs": [
    {
     "data": {
      "text/plain": [
       "(350000, 483)"
      ]
     },
     "execution_count": 14,
     "metadata": {},
     "output_type": "execute_result"
    }
   ],
   "source": [
    "df_embed_final.shape"
   ]
  },
  {
   "cell_type": "code",
   "execution_count": 15,
   "id": "a8e4d207",
   "metadata": {},
   "outputs": [],
   "source": [
    "def rf(xs, y, n_estimators=40, max_samples=200_000,\n",
    "       max_features=0.5, min_samples_leaf=5, **kwargs):\n",
    "    return RandomForestRegressor(n_jobs=-1, n_estimators=n_estimators,\n",
    "        max_samples=max_samples, max_features=max_features,\n",
    "        min_samples_leaf=min_samples_leaf, oob_score=True).fit(xs, y)"
   ]
  },
  {
   "cell_type": "code",
   "execution_count": 16,
   "id": "6484dae0",
   "metadata": {},
   "outputs": [],
   "source": [
    "dep_var = 482"
   ]
  },
  {
   "cell_type": "code",
   "execution_count": 17,
   "id": "5998fdb3",
   "metadata": {},
   "outputs": [],
   "source": [
    "#df_embed_final = df_embed_final.fillna(0)"
   ]
  },
  {
   "cell_type": "code",
   "execution_count": 18,
   "id": "03e4dd4e",
   "metadata": {},
   "outputs": [],
   "source": [
    "procs = [FillMissing]\n",
    "cont,cat = cont_cat_split(df_embed_final, dep_var=dep_var)"
   ]
  },
  {
   "cell_type": "code",
   "execution_count": 19,
   "id": "50ccc219",
   "metadata": {},
   "outputs": [],
   "source": [
    "embed_tab = TabularPandas(df_embed_final, procs, cat, cont, y_names=dep_var, splits=splits)"
   ]
  },
  {
   "cell_type": "code",
   "execution_count": 20,
   "id": "a19ea3d0",
   "metadata": {},
   "outputs": [],
   "source": [
    "m = rf(embed_tab.train.xs, embed_tab.train.y)"
   ]
  },
  {
   "cell_type": "code",
   "execution_count": 23,
   "id": "3be74a64",
   "metadata": {},
   "outputs": [
    {
     "data": {
      "text/plain": [
       "(0.175239, 0.226973)"
      ]
     },
     "execution_count": 23,
     "metadata": {},
     "output_type": "execute_result"
    }
   ],
   "source": [
    "m_rmse(m, embed_tab.train.xs, embed_tab.train.y), m_rmse(m, embed_tab.valid.xs, embed_tab.valid.y)"
   ]
  },
  {
   "cell_type": "code",
   "execution_count": 27,
   "id": "0b3f82be",
   "metadata": {},
   "outputs": [
    {
     "data": {
      "text/plain": [
       "(0.202033, 0.248385)"
      ]
     },
     "execution_count": 27,
     "metadata": {},
     "output_type": "execute_result"
    }
   ],
   "source": [
    "dt = DecisionTreeRegressor(min_samples_leaf=25)\n",
    "dt.fit(embed_tab.train.xs, embed_tab.train.y)\n",
    "m_rmse(dt, embed_tab.train.xs, embed_tab.train.y), m_rmse(dt, embed_tab.valid.xs, embed_tab.valid.y)"
   ]
  },
  {
   "cell_type": "code",
   "execution_count": 45,
   "id": "4ded5353",
   "metadata": {},
   "outputs": [
    {
     "data": {
      "text/plain": [
       "(0.306303, 0.315475)"
      ]
     },
     "execution_count": 45,
     "metadata": {},
     "output_type": "execute_result"
    }
   ],
   "source": [
    "gb = GradientBoostingRegressor(min_samples_leaf=25)\n",
    "gb.fit(to_nn.train.xs, to_nn.train.y)\n",
    "m_rmse(gb, to_nn.train.xs, to_nn.train.y), m_rmse(gb, to_nn.valid.xs, to_nn.valid.y)"
   ]
  },
  {
   "cell_type": "code",
   "execution_count": 30,
   "id": "bdb1d15a",
   "metadata": {},
   "outputs": [
    {
     "data": {
      "text/plain": [
       "(0.24827, 0.257786)"
      ]
     },
     "execution_count": 30,
     "metadata": {},
     "output_type": "execute_result"
    }
   ],
   "source": [
    "gb = GradientBoostingRegressor(min_samples_leaf=25)\n",
    "gb.fit(embed_tab.train.xs, embed_tab.train.y)\n",
    "m_rmse(gb, embed_tab.train.xs, embed_tab.train.y), m_rmse(gb, embed_tab.valid.xs, embed_tab.valid.y)"
   ]
  },
  {
   "cell_type": "code",
   "execution_count": 46,
   "id": "a65374f7",
   "metadata": {},
   "outputs": [
    {
     "data": {
      "text/html": [
       "<table border=\"1\" class=\"dataframe\">\n",
       "  <thead>\n",
       "    <tr style=\"text-align: left;\">\n",
       "      <th>epoch</th>\n",
       "      <th>train_loss</th>\n",
       "      <th>valid_loss</th>\n",
       "      <th>time</th>\n",
       "    </tr>\n",
       "  </thead>\n",
       "  <tbody>\n",
       "    <tr>\n",
       "      <td>0</td>\n",
       "      <td>0.061023</td>\n",
       "      <td>0.062685</td>\n",
       "      <td>00:09</td>\n",
       "    </tr>\n",
       "    <tr>\n",
       "      <td>1</td>\n",
       "      <td>0.051124</td>\n",
       "      <td>0.056627</td>\n",
       "      <td>00:03</td>\n",
       "    </tr>\n",
       "    <tr>\n",
       "      <td>2</td>\n",
       "      <td>0.044885</td>\n",
       "      <td>0.051571</td>\n",
       "      <td>00:03</td>\n",
       "    </tr>\n",
       "    <tr>\n",
       "      <td>3</td>\n",
       "      <td>0.042067</td>\n",
       "      <td>0.051674</td>\n",
       "      <td>00:03</td>\n",
       "    </tr>\n",
       "    <tr>\n",
       "      <td>4</td>\n",
       "      <td>0.040275</td>\n",
       "      <td>0.051606</td>\n",
       "      <td>00:03</td>\n",
       "    </tr>\n",
       "  </tbody>\n",
       "</table>"
      ],
      "text/plain": [
       "<IPython.core.display.HTML object>"
      ]
     },
     "metadata": {},
     "output_type": "display_data"
    }
   ],
   "source": [
    "dls = embed_tab.dataloaders(1024)\n",
    "learn = tabular_learner(dls, y_range=(8,12), layers=[500,250],\n",
    "                        n_out=1, loss_func=F.mse_loss)\n",
    "learn.fit_one_cycle(5, 1e-2)"
   ]
  },
  {
   "cell_type": "code",
   "execution_count": 47,
   "id": "a8f6b9f5",
   "metadata": {},
   "outputs": [
    {
     "data": {
      "text/html": [],
      "text/plain": [
       "<IPython.core.display.HTML object>"
      ]
     },
     "metadata": {},
     "output_type": "display_data"
    },
    {
     "data": {
      "text/plain": [
       "0.22717"
      ]
     },
     "execution_count": 47,
     "metadata": {},
     "output_type": "execute_result"
    }
   ],
   "source": [
    "preds,targs = learn.get_preds()\n",
    "r_mse(preds,targs)"
   ]
  },
  {
   "cell_type": "code",
   "execution_count": null,
   "id": "a8d2715a",
   "metadata": {},
   "outputs": [],
   "source": []
  }
 ],
 "metadata": {
  "kernelspec": {
   "display_name": "Python 3",
   "language": "python",
   "name": "python3"
  },
  "language_info": {
   "codemirror_mode": {
    "name": "ipython",
    "version": 3
   },
   "file_extension": ".py",
   "mimetype": "text/x-python",
   "name": "python",
   "nbconvert_exporter": "python",
   "pygments_lexer": "ipython3",
   "version": "3.8.2"
  }
 },
 "nbformat": 4,
 "nbformat_minor": 5
}
